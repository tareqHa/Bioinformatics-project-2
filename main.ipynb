{
 "cells": [
  {
   "cell_type": "markdown",
   "metadata": {},
   "source": [
    "# Import modules"
   ]
  },
  {
   "cell_type": "code",
   "execution_count": 48,
   "metadata": {},
   "outputs": [],
   "source": [
    "import pandas as pd\n",
    "import matplotlib.pyplot as plt"
   ]
  },
  {
   "cell_type": "markdown",
   "metadata": {},
   "source": [
    "# Read CpgIslands"
   ]
  },
  {
   "cell_type": "code",
   "execution_count": 2,
   "metadata": {},
   "outputs": [
    {
     "data": {
      "text/html": [
       "<div>\n",
       "<style scoped>\n",
       "    .dataframe tbody tr th:only-of-type {\n",
       "        vertical-align: middle;\n",
       "    }\n",
       "\n",
       "    .dataframe tbody tr th {\n",
       "        vertical-align: top;\n",
       "    }\n",
       "\n",
       "    .dataframe thead th {\n",
       "        text-align: right;\n",
       "    }\n",
       "</style>\n",
       "<table border=\"1\" class=\"dataframe\">\n",
       "  <thead>\n",
       "    <tr style=\"text-align: right;\">\n",
       "      <th></th>\n",
       "      <th>chr</th>\n",
       "      <th>start</th>\n",
       "      <th>end</th>\n",
       "    </tr>\n",
       "  </thead>\n",
       "  <tbody>\n",
       "    <tr>\n",
       "      <th>0</th>\n",
       "      <td>chr1</td>\n",
       "      <td>28735</td>\n",
       "      <td>29810</td>\n",
       "    </tr>\n",
       "    <tr>\n",
       "      <th>1</th>\n",
       "      <td>chr1</td>\n",
       "      <td>135124</td>\n",
       "      <td>135563</td>\n",
       "    </tr>\n",
       "    <tr>\n",
       "      <th>2</th>\n",
       "      <td>chr1</td>\n",
       "      <td>327790</td>\n",
       "      <td>328229</td>\n",
       "    </tr>\n",
       "    <tr>\n",
       "      <th>3</th>\n",
       "      <td>chr1</td>\n",
       "      <td>437151</td>\n",
       "      <td>438164</td>\n",
       "    </tr>\n",
       "    <tr>\n",
       "      <th>4</th>\n",
       "      <td>chr1</td>\n",
       "      <td>449273</td>\n",
       "      <td>450544</td>\n",
       "    </tr>\n",
       "  </tbody>\n",
       "</table>\n",
       "</div>"
      ],
      "text/plain": [
       "    chr   start     end\n",
       "0  chr1   28735   29810\n",
       "1  chr1  135124  135563\n",
       "2  chr1  327790  328229\n",
       "3  chr1  437151  438164\n",
       "4  chr1  449273  450544"
      ]
     },
     "execution_count": 2,
     "metadata": {},
     "output_type": "execute_result"
    }
   ],
   "source": [
    "cpg_islands = pd.read_csv('cpgIslandExt.txt', sep = '\\t', header = None) # read the file\n",
    "\n",
    "cpg_islands = cpg_islands.iloc[:, 1:4] # extract the start and end coordinates of each chr\n",
    "\n",
    "cpg_islands = cpg_islands.rename(columns = {1 : 'chr', 2 : 'start', 3 : 'end'}) # add columns names\n",
    "cpg_islands = cpg_islands.sort_values(['chr', 'start', 'end']) # sort by chromosome name then by start then by end\n",
    "start_list = cpg_islands.groupby(['chr'])['start'].apply(list)\n",
    "end_list = cpg_islands.groupby(['chr'])['end'].apply(list)\n",
    "cpg_islands.head()"
   ]
  },
  {
   "cell_type": "markdown",
   "metadata": {},
   "source": [
    "# Read chromosomes length"
   ]
  },
  {
   "cell_type": "code",
   "execution_count": 3,
   "metadata": {},
   "outputs": [],
   "source": [
    "chrom_len = pd.read_csv('hg19.chrom.sizes.txt', sep = '\\t', header = None)\n",
    "chrom_len = chrom_len.rename(columns = {0 : 'chr', 1 : 'length'})\n",
    "chrom_len = chrom_len.groupby(['chr'])['length'].apply(int)"
   ]
  },
  {
   "cell_type": "markdown",
   "metadata": {},
   "source": [
    "# Read DNA Methylation coordinates"
   ]
  },
  {
   "cell_type": "code",
   "execution_count": 4,
   "metadata": {},
   "outputs": [],
   "source": [
    "dna_methylation = {} # dictionary chromosome => list of tuples\n",
    "with open(\"HAIB.A549.EtOH.Rep.3.bed\")as f:\n",
    "    for line in f:\n",
    "        content = line.strip().split()\n",
    "        chromosome = content[0]\n",
    "        start = content[1]\n",
    "        end = content[2]\n",
    "        if chromosome in dna_methylation:\n",
    "            dna_methylation[chromosome].append((int(start) + int(end)) / 2)\n",
    "        else:\n",
    "            dna_methylation[chromosome] = [(int(start) + int(end)) / 2]"
   ]
  },
  {
   "cell_type": "markdown",
   "metadata": {},
   "source": [
    "## Find the Cpg-islands, shores and shelves"
   ]
  },
  {
   "cell_type": "code",
   "execution_count": 5,
   "metadata": {},
   "outputs": [],
   "source": [
    "def create_data(cpg_start_map, cpg_end_map, window):\n",
    "    \n",
    "    cpg_islands = {}\n",
    "    shores = {}\n",
    "    shelves = {}\n",
    "    seas = {}\n",
    "    keys = list(cpg_start_map.keys())\n",
    "    for chromosome in keys:\n",
    "        chromosome_len = chrom_len[chromosome]\n",
    "        length = len(cpg_start_map[chromosome])\n",
    "        \n",
    "        cpg_start = cpg_start_map[chromosome]\n",
    "        cpg_end = cpg_end_map[chromosome]\n",
    "        \n",
    "        shores[chromosome] = [()]  # just define the type of dictionary values to be tuples\n",
    "        shores[chromosome].remove(())\n",
    "        \n",
    "        shelves[chromosome] = [()]\n",
    "        shelves[chromosome].remove(())\n",
    "        \n",
    "        seas[chromosome] = [()]\n",
    "        seas[chromosome].remove(())\n",
    "        \n",
    "        cpg_islands[chromosome] = [()]\n",
    "        cpg_islands[chromosome].remove(())\n",
    "        \n",
    "\n",
    "        # first cpg island\n",
    "        cpg_islands[chromosome].append((cpg_start[0], cpg_end[0]))\n",
    "        if cpg_start[0] > (2*window):  # space for shore, shelve and sea\n",
    "            seas[chromosome].append((0, cpg_start[0] - 2*window))\n",
    "            shelves[chromosome].append((cpg_start[0] - 2*window, cpg_start[0] - window))\n",
    "            shores[chromosome].append((cpg_start[0] - window, cpg_start[0]))\n",
    "        elif cpg_start[0] > (window):    # space for shore and shelve\n",
    "            shelves[chromosome].append((0, cpg_start[0] - window))\n",
    "            shores[chromosome].append((cpg_start[0] - window, cpg_start[0]))  \n",
    "        elif cpg_start[0] < (window):    # space for shore only\n",
    "            shores[chromosome].append((0, cpg_start[0]))\n",
    "        \n",
    "        \n",
    "        prev_end = cpg_end[0]\n",
    "        for i in range(1, length):\n",
    "            start = cpg_start[i]\n",
    "            end = cpg_end[i]\n",
    "            \n",
    "            if start - prev_end > (4*window): # space for shores, shelves and seas\n",
    "                shores[chromosome].append((prev_end, prev_end + window))\n",
    "                shelves[chromosome].append((prev_end + window, prev_end + 2*window))\n",
    "                seas[chromosome].append((prev_end + 2*window, start - 2*window))\n",
    "                shelves[chromosome].append((start - 2*window, start - window))\n",
    "                shores[chromosome].append((start - window, start))\n",
    "            elif start - prev_end > (2*window): # space for shores and shelves\n",
    "                shores[chromosome].append(( prev_end, prev_end + window))\n",
    "                shelves[chromosome].append((prev_end + window, start - window))\n",
    "                shores[chromosome].append((start - window, start))                \n",
    "            else: # space for shore only\n",
    "                shores[chromosome].append((prev_end, start))\n",
    "            \n",
    "            prev_end = end\n",
    "            cpg_islands[chromosome].append((start, end))\n",
    "        \n",
    "        # last cpg island\n",
    "          \n",
    "            # Last CPG Island - Right\n",
    "        if chromosome_len - prev_end > (2*window):\n",
    "            shores[chromosome].append((prev_end, prev_end + window))\n",
    "            shelves[chromosome].append((prev_end + window, prev_end + 2*window))\n",
    "            seas[chromosome].append((prev_end + 2*window, chromosome_len))\n",
    "        elif chromosome_len - prev_end > (window):\n",
    "            shores[chromosome].append((prev_end, prev_end + window))\n",
    "            shelves[chromosome].append((prev_end + window, chromosome_len))\n",
    "        elif chromosome_len - prev_end <= (window):\n",
    "            shores[chromosome].append((prev_end, chromosome_len))\n",
    "    return cpg_islands, shores, shelves, seas"
   ]
  },
  {
   "cell_type": "code",
   "execution_count": 6,
   "metadata": {},
   "outputs": [],
   "source": [
    "cpg_islands, shores, shelves, seas = create_data(start_list, end_list, 2000)"
   ]
  },
  {
   "cell_type": "markdown",
   "metadata": {},
   "source": [
    "## Save data"
   ]
  },
  {
   "cell_type": "code",
   "execution_count": 7,
   "metadata": {},
   "outputs": [],
   "source": [
    "def save_values_bed(path, data):\n",
    "    with open(path+'.bed', 'w') as f:\n",
    "        for key in data.keys():\n",
    "            for row in data[key]:\n",
    "                f.write('%s\\t%s\\t%s\\n' % (key, row[0], row[1]))\n",
    "            "
   ]
  },
  {
   "cell_type": "code",
   "execution_count": 8,
   "metadata": {},
   "outputs": [],
   "source": [
    "save_values_bed('cpg_islands', cpg_islands)\n",
    "save_values_bed('shores', shores)\n",
    "save_values_bed('shelves', shelves)\n",
    "save_values_bed('seas', seas)"
   ]
  },
  {
   "cell_type": "markdown",
   "metadata": {},
   "source": [
    "## Binary seach"
   ]
  },
  {
   "cell_type": "code",
   "execution_count": 32,
   "metadata": {},
   "outputs": [],
   "source": [
    "def binary_search(lst, val):\n",
    "    \n",
    "    start = 0\n",
    "    end = len(lst) - 1\n",
    "    ret = 0\n",
    "    while (start <= end):\n",
    "        mid = int((start + end) / 2)\n",
    "        \n",
    "        if lst[mid][0] < val:\n",
    "            ret = mid\n",
    "            start = mid + 1\n",
    "        elif lst[mid][0] > val:\n",
    "            end = mid - 1\n",
    "        else:\n",
    "            ret = mid\n",
    "            return ret\n",
    "    return ret\n",
    "            "
   ]
  },
  {
   "cell_type": "markdown",
   "metadata": {},
   "source": [
    "## Count the hits per region"
   ]
  },
  {
   "cell_type": "code",
   "execution_count": 52,
   "metadata": {},
   "outputs": [],
   "source": [
    "def count_hits(cpg_islands, shores, shelves, seas, dna_methylation):\n",
    "    \n",
    "    cpg_islands_cnt = 0\n",
    "    shores_cnt = 0\n",
    "    shelves_cnt = 0\n",
    "    seas_cnt = 0\n",
    "    \n",
    "    for chromosome in dna_methylation.keys():\n",
    "        \n",
    "        for middle in dna_methylation[chromosome]: # binary search the first segment which may contains the methylation point for each region\n",
    "            \n",
    "            shore_idx = binary_search(shores[chromosome], middle)\n",
    "            shores_cnt = shores_cnt + int(shores[chromosome][shore_idx][0] <= middle and shores[chromosome][shore_idx][1] >= middle)\n",
    "            \n",
    "            shelve_idx = binary_search(shelves[chromosome], middle)\n",
    "            shelves_cnt = shelves_cnt + int(shelves[chromosome][shelve_idx][0] <= middle and shelves[chromosome][shelve_idx][1] >= middle)\n",
    "            \n",
    "            cpg_island_idx = binary_search(cpg_islands[chromosome], middle)\n",
    "            cpg_islands_cnt = cpg_islands_cnt + int(cpg_islands[chromosome][cpg_island_idx][0] <= middle and cpg_islands[chromosome][cpg_island_idx][1] >= middle)\n",
    "            \n",
    "            sea_idx = binary_search(seas[chromosome], middle)\n",
    "            seas_cnt = seas_cnt + int(seas[chromosome][sea_idx][0] <= middle and seas[chromosome][sea_idx][1] >= middle)\n",
    "                                            \n",
    "            \n",
    "    return cpg_islands_cnt, shores_cnt, shelves_cnt, seas_cnt"
   ]
  },
  {
   "cell_type": "markdown",
   "metadata": {},
   "source": [
    "## Normalize the vector"
   ]
  },
  {
   "cell_type": "code",
   "execution_count": 47,
   "metadata": {},
   "outputs": [
    {
     "data": {
      "text/plain": [
       "[0.28235496372151214,\n",
       " 0.2618513524429725,\n",
       " 0.09666254481734408,\n",
       " 0.35913113901817134]"
      ]
     },
     "execution_count": 47,
     "metadata": {},
     "output_type": "execute_result"
    }
   ],
   "source": [
    "cpg_islands_cnt, shores_cnt, shelves_cnt, seas_cnt = count_hits(cpg_islands, shores, shelves, seas, dna_methylation)\n",
    "vector = (cpg_islands_cnt, shores_cnt, shelves_cnt, seas_cnt)\n",
    "norm = [float(i)/sum(vector) for i in vector]"
   ]
  },
  {
   "cell_type": "markdown",
   "metadata": {},
   "source": [
    "## Plot the distribution"
   ]
  },
  {
   "cell_type": "code",
   "execution_count": 50,
   "metadata": {},
   "outputs": [
    {
     "data": {
      "image/png": "[encoded data removed]",
      "text/plain": [
       "<Figure size 432x288 with 1 Axes>"
      ]
     },
     "metadata": {
      "needs_background": "light"
     },
     "output_type": "display_data"
    }
   ],
   "source": [
    "plt.bar(['sea','cpg island','shore','shelve'], (norm[3], norm[0], norm[1], norm[2]))\n",
    "plt.title('DNA Methylation hits per region')\n",
    "plt.ylabel('Percentage of hits')\n",
    "plt.xlabel('Region')\n",
    "plt.show()"
   ]
  },
  {
   "cell_type": "code",
   "execution_count": null,
   "metadata": {},
   "outputs": [],
   "source": []
  }
 ],
 "metadata": {
  "kernelspec": {
   "display_name": "Python 3",
   "language": "python",
   "name": "python3"
  },
  "language_info": {
   "codemirror_mode": {
    "name": "ipython",
    "version": 3
   },
   "file_extension": ".py",
   "mimetype": "text/x-python",
   "name": "python",
   "nbconvert_exporter": "python",
   "pygments_lexer": "ipython3",
   "version": "3.6.8"
  }
 },
 "nbformat": 4,
 "nbformat_minor": 2
}
